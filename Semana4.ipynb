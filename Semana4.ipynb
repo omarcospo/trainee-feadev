{
 "cells": [
  {
   "cell_type": "markdown",
   "metadata": {},
   "source": [
    "# Exercício 1\n",
    "Você é um macroeconomista e projeta o crescimento real dos setores da economia. Todavia, é um trabalho extremamente repetitivo e então decide fazer em Python para ser mais rápido! "
   ]
  },
  {
   "cell_type": "code",
   "execution_count": 1,
   "metadata": {},
   "outputs": [
    {
     "name": "stdout",
     "output_type": "stream",
     "text": [
      "Previsões de crescimento ajustadas por setor:\n",
      "Tecnologia: Crescimento Original: 9.00%, Crescimento Real: 5.30%\n",
      "Industria: Crescimento Original: 8.00%, Crescimento Real: 4.30%\n",
      "Energia: Crescimento Original: 4.00%, Crescimento Real: 0.30%\n",
      "\n",
      "Informações do cenário econômico:\n",
      "Inflacao: 3.7\n"
     ]
    }
   ],
   "source": [
    "def projetar_crescimento(*setores, **cenario):\n",
    "    # Função lambda para ajustar o crescimento com base na inflação\n",
    "    ajustar_crescimento = lambda crescimento, inflacao: crescimento - inflacao\n",
    "    \n",
    "    # Recuperando a inflação do cenário\n",
    "    inflacao = cenario.get('inflacao', 0)\n",
    "    \n",
    "    # Aplicando o ajuste de inflação a todos os setores\n",
    "    setores_ajustados = []\n",
    "    for setor in setores:\n",
    "        setor_ajustado = setor.copy()  # Copiar o dicionário do setor\n",
    "        setor_ajustado['crescimento_real'] = ajustar_crescimento(setor['crescimento'], inflacao)\n",
    "        setores_ajustados.append(setor_ajustado)\n",
    "        \n",
    "    # Printando as previsões ajustadas\n",
    "    print(\"Previsões de crescimento ajustadas por setor:\")\n",
    "    for setor in setores_ajustados:\n",
    "        print(f\"{setor['nome'].capitalize()}: Crescimento Original: {setor['crescimento']:.2f}%, Crescimento Real: {setor['crescimento_real']:.2f}%\")\n",
    "    \n",
    "    # Printar inflação na época\n",
    "    print(\"\\nInformações do cenário econômico:\")\n",
    "    for chave, valor in cenario.items():\n",
    "        print(f\"{chave.capitalize()}: {valor}\")\n",
    "\n",
    "# Setores econômicos\n",
    "setores = [\n",
    "    {'nome': 'tecnologia', 'crescimento': 9.0},\n",
    "    {'nome': 'industria', 'crescimento': 8.0},\n",
    "    {'nome': 'energia', 'crescimento': 4.0}\n",
    "]\n",
    "\n",
    "# Inflção da época\n",
    "cenario_economico = {\n",
    "    'inflacao': 3.70  # Inflação atual\n",
    "}\n",
    "\n",
    "projetar_crescimento(\n",
    "    *setores,\n",
    "    **cenario_economico\n",
    ")"
   ]
  },
  {
   "cell_type": "markdown",
   "metadata": {},
   "source": [
    "# Exercício 2\n",
    "Você está participando de um projeto para a empresa que trabalha e encontra a seguinte peça de código escrita por um de seus companheiros de equipe. Como você melhoraria esse código usando os conceitos estudados?"
   ]
  },
  {
   "cell_type": "code",
   "execution_count": 2,
   "metadata": {},
   "outputs": [
    {
     "name": "stdout",
     "output_type": "stream",
     "text": [
      "A conta 120415 transferiu R$700 para Fornecedor na data 21/12/2024\n"
     ]
    },
    {
     "data": {
      "text/plain": [
       "[[120415, 700, 'Fornecedor', '21/12/2024']]"
      ]
     },
     "execution_count": 2,
     "metadata": {},
     "output_type": "execute_result"
    }
   ],
   "source": [
    "a = \"21/12/2024\"\n",
    "\n",
    "def add_transações(origem, valor, destinatário):\n",
    "    global a\n",
    "    histórico = list()\n",
    "    histórico.append([origem, valor, destinatário, a])\n",
    "    print(f\"A conta {origem} transferiu R${valor} para {destinatário} na data {a}\")\n",
    "    return histórico\n",
    "\n",
    "add_transações(120415, 700, \"Fornecedor\")"
   ]
  },
  {
   "cell_type": "code",
   "execution_count": 3,
   "metadata": {},
   "outputs": [
    {
     "name": "stdout",
     "output_type": "stream",
     "text": [
      "A conta 120415 transferiu R$700 para Fornecedor na data 21/12/2024\n",
      "A conta 114765 transferiu R$1200 para Funcionário na data 03/04/2024\n"
     ]
    },
    {
     "ename": "Exception",
     "evalue": "O valor não pode ser negativo",
     "output_type": "error",
     "traceback": [
      "\u001b[1;31m---------------------------------------------------------------------------\u001b[0m",
      "\u001b[1;31mException\u001b[0m                                 Traceback (most recent call last)",
      "Cell \u001b[1;32mIn[3], line 23\u001b[0m\n\u001b[0;32m     21\u001b[0m add_transações(\u001b[38;5;241m120415\u001b[39m, \u001b[38;5;241m700\u001b[39m, \u001b[38;5;124m\"\u001b[39m\u001b[38;5;124mFornecedor\u001b[39m\u001b[38;5;124m\"\u001b[39m, \u001b[38;5;124m\"\u001b[39m\u001b[38;5;124m21/12/2024\u001b[39m\u001b[38;5;124m\"\u001b[39m)\n\u001b[0;32m     22\u001b[0m add_transações(\u001b[38;5;241m114765\u001b[39m, \u001b[38;5;241m1200\u001b[39m, \u001b[38;5;124m\"\u001b[39m\u001b[38;5;124mFuncionário\u001b[39m\u001b[38;5;124m\"\u001b[39m, \u001b[38;5;124m\"\u001b[39m\u001b[38;5;124m03/04/2024\u001b[39m\u001b[38;5;124m\"\u001b[39m)\n\u001b[1;32m---> 23\u001b[0m \u001b[43madd_transações\u001b[49m\u001b[43m(\u001b[49m\u001b[38;5;241;43m130971\u001b[39;49m\u001b[43m,\u001b[49m\u001b[43m \u001b[49m\u001b[38;5;241;43m-\u001b[39;49m\u001b[38;5;241;43m100\u001b[39;49m\u001b[43m,\u001b[49m\u001b[43m \u001b[49m\u001b[38;5;124;43m\"\u001b[39;49m\u001b[38;5;124;43mEmpresa 1\u001b[39;49m\u001b[38;5;124;43m\"\u001b[39;49m\u001b[43m,\u001b[49m\u001b[43m \u001b[49m\u001b[38;5;124;43m\"\u001b[39;49m\u001b[38;5;124;43m10/12/2024\u001b[39;49m\u001b[38;5;124;43m\"\u001b[39;49m\u001b[43m)\u001b[49m\n",
      "Cell \u001b[1;32mIn[3], line 16\u001b[0m, in \u001b[0;36madd_transações\u001b[1;34m(origem, valor, destinatário, data)\u001b[0m\n\u001b[0;32m      5\u001b[0m \u001b[38;5;250m\u001b[39m\u001b[38;5;124;03m\"\"\"\u001b[39;00m\n\u001b[0;32m      6\u001b[0m \u001b[38;5;124;03mAdiciona os argumentos à lista histórico e retorna a lista atualizada.\u001b[39;00m\n\u001b[0;32m      7\u001b[0m \n\u001b[1;32m   (...)\u001b[0m\n\u001b[0;32m     13\u001b[0m \u001b[38;5;124;03m:raise Exception: o argumento valor era negativo. \u001b[39;00m\n\u001b[0;32m     14\u001b[0m \u001b[38;5;124;03m\"\"\"\u001b[39;00m\n\u001b[0;32m     15\u001b[0m \u001b[38;5;28;01mif\u001b[39;00m valor \u001b[38;5;241m<\u001b[39m \u001b[38;5;241m0\u001b[39m:\n\u001b[1;32m---> 16\u001b[0m     \u001b[38;5;28;01mraise\u001b[39;00m \u001b[38;5;167;01mException\u001b[39;00m(\u001b[38;5;124m\"\u001b[39m\u001b[38;5;124mO valor não pode ser negativo\u001b[39m\u001b[38;5;124m\"\u001b[39m)\n\u001b[0;32m     17\u001b[0m histórico\u001b[38;5;241m.\u001b[39mappend((origem,valor,destinatário,data))\n\u001b[0;32m     18\u001b[0m \u001b[38;5;28mprint\u001b[39m(\u001b[38;5;124mf\u001b[39m\u001b[38;5;124m\"\u001b[39m\u001b[38;5;124mA conta \u001b[39m\u001b[38;5;132;01m{\u001b[39;00morigem\u001b[38;5;132;01m}\u001b[39;00m\u001b[38;5;124m transferiu R$\u001b[39m\u001b[38;5;132;01m{\u001b[39;00mvalor\u001b[38;5;132;01m}\u001b[39;00m\u001b[38;5;124m para \u001b[39m\u001b[38;5;132;01m{\u001b[39;00mdestinatário\u001b[38;5;132;01m}\u001b[39;00m\u001b[38;5;124m na data \u001b[39m\u001b[38;5;132;01m{\u001b[39;00mdata\u001b[38;5;132;01m}\u001b[39;00m\u001b[38;5;124m\"\u001b[39m)\n",
      "\u001b[1;31mException\u001b[0m: O valor não pode ser negativo"
     ]
    }
   ],
   "source": [
    "#Para melhorar o código, vamos ajustar as variáveis e a função.\n",
    "histórico = []\n",
    "\n",
    "def add_transações(origem, valor, destinatário, data):\n",
    "    \"\"\"\n",
    "    Adiciona os argumentos à lista histórico e retorna a lista atualizada.\n",
    "\n",
    "    :param origem: o número da conta que transferiu o valor\n",
    "    :param valor: o valor transacionado\n",
    "    :param destinatário: para quem a transação foi feita\n",
    "    :param data: data em que foi realizada a transação\n",
    "    :return: retorna o histórico de transações atualizado\n",
    "    :raise Exception: o argumento valor era negativo. \n",
    "    \"\"\"\n",
    "    if valor < 0:\n",
    "        raise Exception(\"O valor não pode ser negativo\")\n",
    "    histórico.append((origem,valor,destinatário,data))\n",
    "    print(f\"A conta {origem} transferiu R${valor} para {destinatário} na data {data}\")\n",
    "    return histórico\n",
    "    \n",
    "add_transações(120415, 700, \"Fornecedor\", \"21/12/2024\")\n",
    "#Vendo que o histórico mantém a memória\n",
    "add_transações(114765, 1200, \"Funcionário\", \"03/04/2024\")\n",
    "#Testando o erro\n",
    "add_transações(130971, -100, \"Empresa 1\", \"10/12/2024\")\n"
   ]
  }
 ],
 "metadata": {
  "kernelspec": {
   "display_name": "Python 3 (ipykernel)",
   "language": "python",
   "name": "python3"
  },
  "language_info": {
   "codemirror_mode": {
    "name": "ipython",
    "version": 3
   },
   "file_extension": ".py",
   "mimetype": "text/x-python",
   "name": "python",
   "nbconvert_exporter": "python",
   "pygments_lexer": "ipython3",
   "version": "3.12.3"
  }
 },
 "nbformat": 4,
 "nbformat_minor": 4
}
