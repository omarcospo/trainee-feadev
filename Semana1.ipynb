{
 "cells": [
  {
   "cell_type": "markdown",
   "id": "bd3c19b0-ff35-4f99-b9dc-82515e33572d",
   "metadata": {},
   "source": [
    "## Exercício 1 ##\n",
    "\n",
    "Você deseja se mudar para a cidade de São Paulo ano que vem, pois passou na USP e mora longe. Assim, você criou uma lista de tuplas com diferentes\n",
    "imóveis e seus respectivos aluguéis no ano atual.\n",
    "Sabendo que no próximo ano o aluguel aumentarão em 20%, você deseja criar uma lista com os aluguéis futuros ordenados pelos imóveis mais baratos."
   ]
  },
  {
   "cell_type": "code",
   "execution_count": 1,
   "id": "ce41ed3f-ccae-45f5-b9d5-08357ff0097e",
   "metadata": {},
   "outputs": [],
   "source": [
    "# lista com os dados dos imóveis\n",
    "imoveis = [\n",
    "    ('Casa Brooklin', 13500),\n",
    "    ('Casa Butantã', 4000),\n",
    "    ('Apartamento Tiradentes', 1000),\n",
    "    ('Apartamento Vila Mariana', 9000),\n",
    "    ('Apartamento Tatuapé', 3000),\n",
    "]"
   ]
  },
  {
   "cell_type": "code",
   "execution_count": 2,
   "id": "ce0528fc-b4f7-48af-999d-d1cb01e67566",
   "metadata": {},
   "outputs": [
    {
     "name": "stdout",
     "output_type": "stream",
     "text": [
      "[('Apartamento Tiradentes', 1200.0), ('Apartamento Tatuapé', 3600.0), ('Casa Butantã', 4800.0), ('Apartamento Vila Mariana', 10800.0), ('Casa Brooklin', 16200.0)]\n"
     ]
    }
   ],
   "source": [
    " # Ordenador por valor\n",
    "imoveis_ordenados = [(imovel, valor*1.2) for (imovel, valor) in sorted(imoveis, key=lambda x:x[1])]\n",
    "\n",
    "print(imoveis_ordenados)"
   ]
  },
  {
   "cell_type": "markdown",
   "id": "d5ac90a6-bc12-41e4-96c6-2fda6ca9caa5",
   "metadata": {},
   "source": [
    "## Exercício 2 ##\n",
    "\n",
    "Você é um pesquisador e possui lista 'nomes_cidades' com o nome de algumas cidades e outra lista 'população' com as populações em milhões de pessoas.\n",
    "Você deseja ordenar as cidades pelas mais populosas, mas apenas aquelas que possuem população acima de 2,5 milhões de habitantes."
   ]
  },
  {
   "cell_type": "code",
   "execution_count": 8,
   "id": "7d94d296-319c-4ccf-8fdb-29dbdd31a3bb",
   "metadata": {},
   "outputs": [],
   "source": [
    "# Dados para a resolução\n",
    "nomes_cidades = ['BH', 'São Paulo', 'Salvador', 'RJ']\n",
    "\n",
    "população = [2.72, 12.33, 2.41, 6.75]"
   ]
  },
  {
   "cell_type": "code",
   "execution_count": 12,
   "id": "01ea06a3-4b6c-450f-8b8a-00949f8367ba",
   "metadata": {},
   "outputs": [
    {
     "name": "stdout",
     "output_type": "stream",
     "text": [
      "['São Paulo', 'Rio de Janeiro', 'Belo Horizonte']\n"
     ]
    }
   ],
   "source": [
    "nomes_cidades = [\"Belo Horizonte\", \"São Paulo\", \"Salvador\", \"Rio de Janeiro\"]\n",
    "\n",
    "população = [2.722, 12.33, 2.417, 6.748]\n",
    "\n",
    "# Criando a lista de tuplas\n",
    "cidades = [(cidade, pop) for cidade, pop in zip(nomes_cidades, população)]\n",
    "\n",
    "# Filtrando cidades\n",
    "cidades = list(filter(lambda x: x[1] > 2.5, cidades))\n",
    "\n",
    "# Ordenando as cidades por população\n",
    "cidades_ordenadas = [\n",
    "    cidade for cidade, pop in sorted(cidades, key=lambda x: x[1], reverse=True)\n",
    "]\n",
    "\n",
    "print(cidades_ordenadas)\n",
    "# --> ['São Paulo', 'Rio de Janeiro', 'Belo Horizonte']"
   ]
  }
 ],
 "metadata": {
  "kernelspec": {
   "display_name": "Python 3 (ipykernel)",
   "language": "python",
   "name": "python3"
  },
  "language_info": {
   "codemirror_mode": {
    "name": "ipython",
    "version": 3
   },
   "file_extension": ".py",
   "mimetype": "text/x-python",
   "name": "python",
   "nbconvert_exporter": "python",
   "pygments_lexer": "ipython3",
   "version": "3.11.7"
  }
 },
 "nbformat": 4,
 "nbformat_minor": 5
}
