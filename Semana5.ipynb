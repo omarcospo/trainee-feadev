{
 "cells": [
  {
   "cell_type": "markdown",
   "metadata": {},
   "source": [
    "### Exercício 1\n",
    " Você trabalha na tesouraria de uma empresa, onde as operações financeiras são catalogadas em ordem numérica e armazenadas em um sistema NAS, ou seja, um servidor de dados compartilhados entre os dispositivos do seu departamento. Dado que você possui conhecimento sobre duas técnicas de sorting: Quicksort e Mergesort, qual você consideraria mais apropriada para organizar essa grande quantidade de arquivos? "
   ]
  },
  {
   "cell_type": "markdown",
   "metadata": {},
   "source": [
    "**Resposta:** *Apesar das vantagens do quicksort, como a economia de memória, o melhor algoritmo de organização nesse caso é o mergesort. Ele apresenta estabilidade de performance mesmo em grandes bases de dados e se adapta bem em casos de listas slow-to-access, como é o caso de dados armazenados em sistemas NAS, enquanto quicksort tende a performar mal em cenários desse tipo.*"
   ]
  },
  {
   "cell_type": "code",
   "execution_count": null,
   "metadata": {},
   "outputs": [],
   "source": [
    "import time\n",
    "\n",
    "# Testando o tempo de execução do Quicksort\n",
    "start_time = time.time()\n",
    "quicksort(files)\n",
    "quicksort_time = time.time() - start_time\n",
    "\n",
    "# Testando o tempo de execução do Mergesort\n",
    "start_time = time.time()\n",
    "mergesort(files)\n",
    "mergesort_time = time.time() - start_time\n",
    "\n",
    "print(f\"Tempo de execução do Quicksort: {quicksort_time} segundos\")\n",
    "print(f\"Tempo de execução do Mergesort: {mergesort_time} segundos\")"
   ]
  },
  {
   "cell_type": "markdown",
   "metadata": {},
   "source": [
    "### Exercício 2\n",
    "Após realizar a organização da lista de dados pelos algoritmos de sorting, você deseja conferir que o estagiário realmente catalogou uma operação financeira. De que forma você poderia usar programação para facilitar essa procura?  "
   ]
  },
  {
   "cell_type": "markdown",
   "metadata": {},
   "source": [
    "**Resposta:** *Podemos utilizar os algoritmos de procura (search algorithms) para obter o índice dessa operação financeira na nossa base de dados. Como é uma lista uniformemente distribuída (pois cada operação possui uma ordem numérica única), é interessante utilizar Interpolation Search. Por outro lado, a Binary Search é mais rápida de implementar em termos de código.*"
   ]
  },
  {
   "cell_type": "code",
   "execution_count": null,
   "metadata": {},
   "outputs": [],
   "source": [
    "import time\n",
    "\n",
    "# Medindo o tempo de execução do Interpolation Search\n",
    "start_time = time.time()\n",
    "index_interpolation = interpolation_search(sorted_files, target_operation)\n",
    "interpolation_time = time.time() - start_time\n",
    "\n",
    "# Medindo o tempo de execução do Binary Search\n",
    "start_time = time.time()\n",
    "index_binary = binary_search(sorted_files, target_operation)\n",
    "binary_time = time.time() - start_time\n",
    "\n",
    "print(f\"Tempo de execução do Interpolation Search: {interpolation_time} segundos\")\n",
    "print(f\"Tempo de execução do Binary Search: {binary_time} segundos\")"
   ]
  }
 ],
 "metadata": {
  "kernelspec": {
   "display_name": "python",
   "language": "python",
   "name": "python3"
  },
  "language_info": {
   "name": "python",
   "version": "3.12.3"
  }
 },
 "nbformat": 4,
 "nbformat_minor": 2
}
